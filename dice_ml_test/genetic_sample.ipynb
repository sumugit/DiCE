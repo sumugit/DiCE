{
 "cells": [
  {
   "cell_type": "markdown",
   "metadata": {},
   "source": [
    "# 2. Genetic Algorithm"
   ]
  },
  {
   "cell_type": "markdown",
   "metadata": {},
   "source": [
    "Here, we show how to use DiCE can be used to generate CFs for any ML model by using the genetic algorithm to find the best counterfactuals close to the query point. The genetic algorithm converges quickly, and promotes diverse counterfactuals. "
   ]
  },
  {
   "cell_type": "code",
   "execution_count": 2,
   "metadata": {},
   "outputs": [],
   "source": [
    "from utils import helpers  # helper functions\n",
    "\n",
    "from sklearn.compose import ColumnTransformer\n",
    "from sklearn.model_selection import train_test_split\n",
    "from sklearn.pipeline import Pipeline\n",
    "from sklearn.preprocessing import StandardScaler, OneHotEncoder\n",
    "from lightgbm import LGBMRegressor, LGBMClassifier\n",
    "from sklearn.ensemble import RandomForestClassifier\n",
    "import numpy as np\n",
    "import pandas as pd\n",
    "import matplotlib.pyplot as plt\n",
    "\n",
    "from model_interfaces import base_model\n",
    "import data, dice\n",
    "import model as dice_model"
   ]
  },
  {
   "cell_type": "code",
   "execution_count": 3,
   "metadata": {},
   "outputs": [
    {
     "data": {
      "text/html": [
       "<div>\n",
       "<style scoped>\n",
       "    .dataframe tbody tr th:only-of-type {\n",
       "        vertical-align: middle;\n",
       "    }\n",
       "\n",
       "    .dataframe tbody tr th {\n",
       "        vertical-align: top;\n",
       "    }\n",
       "\n",
       "    .dataframe thead th {\n",
       "        text-align: right;\n",
       "    }\n",
       "</style>\n",
       "<table border=\"1\" class=\"dataframe\">\n",
       "  <thead>\n",
       "    <tr style=\"text-align: right;\">\n",
       "      <th></th>\n",
       "      <th>age</th>\n",
       "      <th>workclass</th>\n",
       "      <th>education</th>\n",
       "      <th>marital_status</th>\n",
       "      <th>occupation</th>\n",
       "      <th>race</th>\n",
       "      <th>gender</th>\n",
       "      <th>hours_per_week</th>\n",
       "      <th>income</th>\n",
       "    </tr>\n",
       "  </thead>\n",
       "  <tbody>\n",
       "    <tr>\n",
       "      <th>0</th>\n",
       "      <td>28</td>\n",
       "      <td>Private</td>\n",
       "      <td>Bachelors</td>\n",
       "      <td>Single</td>\n",
       "      <td>White-Collar</td>\n",
       "      <td>White</td>\n",
       "      <td>Female</td>\n",
       "      <td>60</td>\n",
       "      <td>0</td>\n",
       "    </tr>\n",
       "    <tr>\n",
       "      <th>1</th>\n",
       "      <td>30</td>\n",
       "      <td>Self-Employed</td>\n",
       "      <td>Assoc</td>\n",
       "      <td>Married</td>\n",
       "      <td>Professional</td>\n",
       "      <td>White</td>\n",
       "      <td>Male</td>\n",
       "      <td>65</td>\n",
       "      <td>1</td>\n",
       "    </tr>\n",
       "    <tr>\n",
       "      <th>2</th>\n",
       "      <td>32</td>\n",
       "      <td>Private</td>\n",
       "      <td>Some-college</td>\n",
       "      <td>Married</td>\n",
       "      <td>White-Collar</td>\n",
       "      <td>White</td>\n",
       "      <td>Male</td>\n",
       "      <td>50</td>\n",
       "      <td>0</td>\n",
       "    </tr>\n",
       "    <tr>\n",
       "      <th>3</th>\n",
       "      <td>20</td>\n",
       "      <td>Private</td>\n",
       "      <td>Some-college</td>\n",
       "      <td>Single</td>\n",
       "      <td>Service</td>\n",
       "      <td>White</td>\n",
       "      <td>Female</td>\n",
       "      <td>35</td>\n",
       "      <td>0</td>\n",
       "    </tr>\n",
       "    <tr>\n",
       "      <th>4</th>\n",
       "      <td>41</td>\n",
       "      <td>Self-Employed</td>\n",
       "      <td>Some-college</td>\n",
       "      <td>Married</td>\n",
       "      <td>White-Collar</td>\n",
       "      <td>White</td>\n",
       "      <td>Male</td>\n",
       "      <td>50</td>\n",
       "      <td>0</td>\n",
       "    </tr>\n",
       "  </tbody>\n",
       "</table>\n",
       "</div>"
      ],
      "text/plain": [
       "   age      workclass     education marital_status    occupation   race  \\\n",
       "0   28        Private     Bachelors         Single  White-Collar  White   \n",
       "1   30  Self-Employed         Assoc        Married  Professional  White   \n",
       "2   32        Private  Some-college        Married  White-Collar  White   \n",
       "3   20        Private  Some-college         Single       Service  White   \n",
       "4   41  Self-Employed  Some-college        Married  White-Collar  White   \n",
       "\n",
       "   gender  hours_per_week  income  \n",
       "0  Female              60       0  \n",
       "1    Male              65       1  \n",
       "2    Male              50       0  \n",
       "3  Female              35       0  \n",
       "4    Male              50       0  "
      ]
     },
     "execution_count": 3,
     "metadata": {},
     "output_type": "execute_result"
    }
   ],
   "source": [
    "dataset = pd.read_csv('csv/adultdataset.csv')\n",
    "dataset.head()"
   ]
  },
  {
   "cell_type": "code",
   "execution_count": 4,
   "metadata": {},
   "outputs": [],
   "source": [
    "target = dataset[\"income\"]\n",
    "# Split data into train and test\n",
    "datasetX = dataset.drop(\"income\", axis=1)\n",
    "x_train, x_test, y_train, y_test = train_test_split(datasetX,\n",
    "                                                    target,\n",
    "                                                    test_size=0.2,\n",
    "                                                    random_state=0,\n",
    "                                                    stratify=target)\n",
    "\n",
    "numerical = [\"age\", \"hours_per_week\"]\n",
    "categorical = x_train.columns.difference(numerical)\n",
    "\n",
    "# We create the preprocessing pipelines for both numeric and categorical data.\n",
    "numeric_transformer = Pipeline(steps=[\n",
    "    ('scaler', StandardScaler())])\n",
    "\n",
    "categorical_transformer = Pipeline(steps=[\n",
    "    ('onehot', OneHotEncoder(handle_unknown='ignore'))])\n",
    "\n",
    "transformations = ColumnTransformer(\n",
    "    transformers=[\n",
    "        ('num', numeric_transformer, numerical),\n",
    "        ('cat', categorical_transformer, categorical)])\n",
    "\n",
    "# Append classifier to preprocessing pipeline.\n",
    "# Now we have a full prediction pipeline.\n",
    "clf = Pipeline(steps=[('preprocessor', transformations),\n",
    "                      ('regressor', LGBMRegressor())])\n",
    "model = clf.fit(x_train, y_train)"
   ]
  },
  {
   "cell_type": "code",
   "execution_count": 5,
   "metadata": {},
   "outputs": [
    {
     "data": {
      "text/plain": [
       "'b'"
      ]
     },
     "execution_count": 5,
     "metadata": {},
     "output_type": "execute_result"
    }
   ],
   "source": [
    "np.random.choice([\"a\", \"b\", \"c\", \"d\"], p=[0.15, 0.35, 0.2, 0.3])"
   ]
  },
  {
   "cell_type": "code",
   "execution_count": 11,
   "metadata": {},
   "outputs": [
    {
     "name": "stderr",
     "output_type": "stream",
     "text": [
      "findfont: Font family ['IPAexGothic'] not found. Falling back to DejaVu Sans.\n"
     ]
    },
    {
     "data": {
      "image/png": "[encoded data removed]",
      "text/plain": [
       "<Figure size 864x576 with 1 Axes>"
      ]
     },
     "metadata": {
      "needs_background": "light"
     },
     "output_type": "display_data"
    }
   ],
   "source": [
    "pred_list = []\n",
    "for hw in range(20,81):\n",
    "    temp = []\n",
    "    for j in range(1000):\n",
    "        # セグメント 2\n",
    "        workclass = np.random.choice(['Government','Other/Unknown','Private','Self-Employed'], p=[0.13, 0.07, 0.68, 0.12])\n",
    "        education = np.random.choice(['Assoc', 'Bachelors', 'Doctorate', 'Masters', 'School', 'Prof-school', 'HS-grad', 'Some-college'], p=[0.1, 0.11, 0.13, 0.11, 0.0, 0.12, 0.34, 0.09])\n",
    "        marital_status = np.random.choice(['Separated', 'Divorced', 'Married', 'Widowed', 'Single'], p=[0.0050, 0.012, 0.94, 0.023, 0.020])\n",
    "        occupation = np.random.choice(['Other/Unknown', 'Professional', 'Sales', 'Service', 'White-Collar', 'Blue-Collar'], p=[0, 0.23, 0.045, 0.049, 0.066, 0.61])\n",
    "        race = np.random.choice(['Other', 'White'], p=[0.1033, 0.8967])\n",
    "        gender = np.random.choice(['Female', 'Male'], p=[0.9131, 0.0869])\n",
    "\n",
    "        test_instance = pd.DataFrame.from_dict({'age': 29,\n",
    "                        'workclass': workclass,\n",
    "                        'education': education,\n",
    "                        'marital_status': marital_status,\n",
    "                        'occupation': occupation,\n",
    "                        'race': race,\n",
    "                        'gender': gender,\n",
    "                        'hours_per_week': hw}, orient='index').T\n",
    "\n",
    "        temp.append(model.predict(test_instance)[0])\n",
    "    pred_list.append(np.mean(temp))\n",
    "\n",
    "plt.figure(figsize=(12,8))\n",
    "plt.plot(range(20,81), pred_list, linewidth=3, color=\"#CC1464\")\n",
    "plt.xticks(fontsize=15)\n",
    "plt.yticks(fontsize=15)\n",
    "#plt.xlabel(\"hours_per_week\")\n",
    "#plt.ylabel(\"High income probability\")\n",
    "plt.ylim(0.14, 0.45)\n",
    "plt.savefig(\"images/lca_ga_extra_segment2_hw_2.png\")\n",
    "plt.show()"
   ]
  },
  {
   "cell_type": "code",
   "execution_count": 14,
   "metadata": {},
   "outputs": [
    {
     "data": {
      "text/plain": [
       "array([0.248383])"
      ]
     },
     "execution_count": 14,
     "metadata": {},
     "output_type": "execute_result"
    }
   ],
   "source": [
    "test_instance = pd.DataFrame.from_dict({'age': 31,\n",
    "                'workclass': 'Private',\n",
    "                'education': 'HS-grad',\n",
    "                'marital_status': 'Married',\n",
    "                'occupation': 'Blue-Collar',\n",
    "                'race': 'White',\n",
    "                'gender': 'Female',\n",
    "                'hours_per_week': 38}, orient='index').T\n",
    "\n",
    "model.predict(test_instance)\n"
   ]
  },
  {
   "cell_type": "code",
   "execution_count": 5,
   "metadata": {},
   "outputs": [],
   "source": [
    "# initiate DiceGenetic\n",
    "# Using sklearn backend\n",
    "\n",
    "d = data.Data(dataframe=dataset, continuous_features=['age', 'hours_per_week'], outcome_name='income')\n",
    "m = dice_model.Model(model=model, backend=\"sklearn\", model_type='regressor')\n",
    "exp_genetic = dice.Dice(d, m, method='genetic')"
   ]
  },
  {
   "cell_type": "code",
   "execution_count": 6,
   "metadata": {},
   "outputs": [
    {
     "data": {
      "text/plain": [
       "' # generate counterfactuals\\nquery_instances = x_test[0:1]\\ndice_exp_genetic = exp_genetic.generate_counterfactuals(query_instances,\\n                                                       desired_range=[0.16, 0.2],\\n                                                       total_CFs=1000,\\n                                                       proximity_weight=1.0,\\n                                                       sparsity_weight=1.0,\\n                                                       features_to_vary=[\\'workclass\\', \\'education\\', \\'marital_status\\', \\'occupation\\', \\'age\\', \\'hours_per_week\\'],\\n                                                       permitted_range={\\'age\\': [29, max(x_train[\"age\"])]},\\n                                                       verbose=True,\\n                                                       is_research=True)\\ndice_exp_genetic.visualize_as_dataframe(show_only_changes=True)\\n\\n# 年齢に増加制約を加えると近接損失の影響で値が左端に近づく. '"
      ]
     },
     "execution_count": 6,
     "metadata": {},
     "output_type": "execute_result"
    }
   ],
   "source": [
    "\"\"\" # generate counterfactuals\n",
    "query_instances = x_test[0:1]\n",
    "dice_exp_genetic = exp_genetic.generate_counterfactuals(query_instances,\n",
    "                                                       desired_range=[0.16, 0.2],\n",
    "                                                       total_CFs=1000,\n",
    "                                                       proximity_weight=1.0,\n",
    "                                                       sparsity_weight=1.0,\n",
    "                                                       features_to_vary=['workclass', 'education', 'marital_status', 'occupation', 'age', 'hours_per_week'],\n",
    "                                                       permitted_range={'age': [29, max(x_train[\"age\"])]},\n",
    "                                                       verbose=True,\n",
    "                                                       is_research=True)\n",
    "dice_exp_genetic.visualize_as_dataframe(show_only_changes=True)\n",
    "\n",
    "# 年齢に増加制約を加えると近接損失の影響で値が左端に近づく. \"\"\""
   ]
  },
  {
   "cell_type": "code",
   "execution_count": 7,
   "metadata": {},
   "outputs": [
    {
     "name": "stderr",
     "output_type": "stream",
     "text": [
      "  0%|          | 0/1 [00:00<?, ?it/s]"
     ]
    },
    {
     "name": "stdout",
     "output_type": "stream",
     "text": [
      "Initializing initial parameters to the genetic algorithm...\n",
      "Initialization complete! Generating counterfactuals...\n"
     ]
    },
    {
     "name": "stderr",
     "output_type": "stream",
     "text": [
      "100%|██████████| 1/1 [40:18<00:00, 2418.80s/it]"
     ]
    },
    {
     "name": "stdout",
     "output_type": "stream",
     "text": [
      "Diverse Counterfactuals found! total time taken: 40 min 18 sec\n",
      "Query instance (original outcome: 0)\n"
     ]
    },
    {
     "name": "stderr",
     "output_type": "stream",
     "text": [
      "\n"
     ]
    },
    {
     "data": {
      "text/html": [
       "<div>\n",
       "<style scoped>\n",
       "    .dataframe tbody tr th:only-of-type {\n",
       "        vertical-align: middle;\n",
       "    }\n",
       "\n",
       "    .dataframe tbody tr th {\n",
       "        vertical-align: top;\n",
       "    }\n",
       "\n",
       "    .dataframe thead th {\n",
       "        text-align: right;\n",
       "    }\n",
       "</style>\n",
       "<table border=\"1\" class=\"dataframe\">\n",
       "  <thead>\n",
       "    <tr style=\"text-align: right;\">\n",
       "      <th></th>\n",
       "      <th>age</th>\n",
       "      <th>workclass</th>\n",
       "      <th>education</th>\n",
       "      <th>marital_status</th>\n",
       "      <th>occupation</th>\n",
       "      <th>race</th>\n",
       "      <th>gender</th>\n",
       "      <th>hours_per_week</th>\n",
       "      <th>income</th>\n",
       "    </tr>\n",
       "  </thead>\n",
       "  <tbody>\n",
       "    <tr>\n",
       "      <th>0</th>\n",
       "      <td>29</td>\n",
       "      <td>Private</td>\n",
       "      <td>HS-grad</td>\n",
       "      <td>Married</td>\n",
       "      <td>Blue-Collar</td>\n",
       "      <td>White</td>\n",
       "      <td>Female</td>\n",
       "      <td>38</td>\n",
       "      <td>0.159359</td>\n",
       "    </tr>\n",
       "  </tbody>\n",
       "</table>\n",
       "</div>"
      ],
      "text/plain": [
       "   age workclass education marital_status   occupation   race  gender  \\\n",
       "0   29   Private   HS-grad        Married  Blue-Collar  White  Female   \n",
       "\n",
       "   hours_per_week    income  \n",
       "0              38  0.159359  "
      ]
     },
     "metadata": {},
     "output_type": "display_data"
    },
    {
     "name": "stdout",
     "output_type": "stream",
     "text": [
      "\n",
      "Diverse Counterfactual set (new outcome: [0.16, 0.2])\n"
     ]
    },
    {
     "data": {
      "text/html": [
       "<div>\n",
       "<style scoped>\n",
       "    .dataframe tbody tr th:only-of-type {\n",
       "        vertical-align: middle;\n",
       "    }\n",
       "\n",
       "    .dataframe tbody tr th {\n",
       "        vertical-align: top;\n",
       "    }\n",
       "\n",
       "    .dataframe thead th {\n",
       "        text-align: right;\n",
       "    }\n",
       "</style>\n",
       "<table border=\"1\" class=\"dataframe\">\n",
       "  <thead>\n",
       "    <tr style=\"text-align: right;\">\n",
       "      <th></th>\n",
       "      <th>age</th>\n",
       "      <th>workclass</th>\n",
       "      <th>education</th>\n",
       "      <th>marital_status</th>\n",
       "      <th>occupation</th>\n",
       "      <th>race</th>\n",
       "      <th>gender</th>\n",
       "      <th>hours_per_week</th>\n",
       "      <th>income</th>\n",
       "    </tr>\n",
       "  </thead>\n",
       "  <tbody>\n",
       "    <tr>\n",
       "      <th>0</th>\n",
       "      <td>46.0</td>\n",
       "      <td>-</td>\n",
       "      <td>Masters</td>\n",
       "      <td>-</td>\n",
       "      <td>Professional</td>\n",
       "      <td>-</td>\n",
       "      <td>-</td>\n",
       "      <td>40.0</td>\n",
       "      <td>0.7618027671524595</td>\n",
       "    </tr>\n",
       "    <tr>\n",
       "      <th>1</th>\n",
       "      <td>38.0</td>\n",
       "      <td>-</td>\n",
       "      <td>Bachelors</td>\n",
       "      <td>-</td>\n",
       "      <td>Other/Unknown</td>\n",
       "      <td>-</td>\n",
       "      <td>-</td>\n",
       "      <td>44.0</td>\n",
       "      <td>0.7349987638920665</td>\n",
       "    </tr>\n",
       "    <tr>\n",
       "      <th>2</th>\n",
       "      <td>39.0</td>\n",
       "      <td>-</td>\n",
       "      <td>-</td>\n",
       "      <td>-</td>\n",
       "      <td>White-Collar</td>\n",
       "      <td>-</td>\n",
       "      <td>-</td>\n",
       "      <td>43.0</td>\n",
       "      <td>0.5772103682437335</td>\n",
       "    </tr>\n",
       "    <tr>\n",
       "      <th>3</th>\n",
       "      <td>36.0</td>\n",
       "      <td>-</td>\n",
       "      <td>Bachelors</td>\n",
       "      <td>-</td>\n",
       "      <td>-</td>\n",
       "      <td>-</td>\n",
       "      <td>-</td>\n",
       "      <td>56.0</td>\n",
       "      <td>0.6374800856197983</td>\n",
       "    </tr>\n",
       "    <tr>\n",
       "      <th>4</th>\n",
       "      <td>38.0</td>\n",
       "      <td>-</td>\n",
       "      <td>Bachelors</td>\n",
       "      <td>-</td>\n",
       "      <td>-</td>\n",
       "      <td>-</td>\n",
       "      <td>-</td>\n",
       "      <td>45.0</td>\n",
       "      <td>0.563163154639972</td>\n",
       "    </tr>\n",
       "    <tr>\n",
       "      <th>...</th>\n",
       "      <td>...</td>\n",
       "      <td>...</td>\n",
       "      <td>...</td>\n",
       "      <td>...</td>\n",
       "      <td>...</td>\n",
       "      <td>...</td>\n",
       "      <td>...</td>\n",
       "      <td>...</td>\n",
       "      <td>...</td>\n",
       "    </tr>\n",
       "    <tr>\n",
       "      <th>995</th>\n",
       "      <td>28.0</td>\n",
       "      <td>-</td>\n",
       "      <td>-</td>\n",
       "      <td>-</td>\n",
       "      <td>Other/Unknown</td>\n",
       "      <td>Other</td>\n",
       "      <td>-</td>\n",
       "      <td>36.0</td>\n",
       "      <td>0.10742907708793277</td>\n",
       "    </tr>\n",
       "    <tr>\n",
       "      <th>996</th>\n",
       "      <td>17.0</td>\n",
       "      <td>Government</td>\n",
       "      <td>Doctorate</td>\n",
       "      <td>-</td>\n",
       "      <td>-</td>\n",
       "      <td>-</td>\n",
       "      <td>-</td>\n",
       "      <td>43.0</td>\n",
       "      <td>0.17230439319111418</td>\n",
       "    </tr>\n",
       "    <tr>\n",
       "      <th>997</th>\n",
       "      <td>17.0</td>\n",
       "      <td>-</td>\n",
       "      <td>Masters</td>\n",
       "      <td>-</td>\n",
       "      <td>Sales</td>\n",
       "      <td>-</td>\n",
       "      <td>-</td>\n",
       "      <td>42.0</td>\n",
       "      <td>0.1649790420819872</td>\n",
       "    </tr>\n",
       "    <tr>\n",
       "      <th>998</th>\n",
       "      <td>17.0</td>\n",
       "      <td>Government</td>\n",
       "      <td>Doctorate</td>\n",
       "      <td>Widowed</td>\n",
       "      <td>Professional</td>\n",
       "      <td>-</td>\n",
       "      <td>-</td>\n",
       "      <td>-</td>\n",
       "      <td>0.2606692165132837</td>\n",
       "    </tr>\n",
       "    <tr>\n",
       "      <th>999</th>\n",
       "      <td>17.0</td>\n",
       "      <td>-</td>\n",
       "      <td>Bachelors</td>\n",
       "      <td>-</td>\n",
       "      <td>White-Collar</td>\n",
       "      <td>-</td>\n",
       "      <td>-</td>\n",
       "      <td>41.0</td>\n",
       "      <td>0.15743085490097247</td>\n",
       "    </tr>\n",
       "  </tbody>\n",
       "</table>\n",
       "<p>1000 rows × 9 columns</p>\n",
       "</div>"
      ],
      "text/plain": [
       "      age   workclass  education marital_status     occupation   race gender  \\\n",
       "0    46.0           -    Masters              -   Professional      -      -   \n",
       "1    38.0           -  Bachelors              -  Other/Unknown      -      -   \n",
       "2    39.0           -          -              -   White-Collar      -      -   \n",
       "3    36.0           -  Bachelors              -              -      -      -   \n",
       "4    38.0           -  Bachelors              -              -      -      -   \n",
       "..    ...         ...        ...            ...            ...    ...    ...   \n",
       "995  28.0           -          -              -  Other/Unknown  Other      -   \n",
       "996  17.0  Government  Doctorate              -              -      -      -   \n",
       "997  17.0           -    Masters              -          Sales      -      -   \n",
       "998  17.0  Government  Doctorate        Widowed   Professional      -      -   \n",
       "999  17.0           -  Bachelors              -   White-Collar      -      -   \n",
       "\n",
       "    hours_per_week               income  \n",
       "0             40.0   0.7618027671524595  \n",
       "1             44.0   0.7349987638920665  \n",
       "2             43.0   0.5772103682437335  \n",
       "3             56.0   0.6374800856197983  \n",
       "4             45.0    0.563163154639972  \n",
       "..             ...                  ...  \n",
       "995           36.0  0.10742907708793277  \n",
       "996           43.0  0.17230439319111418  \n",
       "997           42.0   0.1649790420819872  \n",
       "998              -   0.2606692165132837  \n",
       "999           41.0  0.15743085490097247  \n",
       "\n",
       "[1000 rows x 9 columns]"
      ]
     },
     "metadata": {},
     "output_type": "display_data"
    }
   ],
   "source": [
    "# generate counterfactuals\n",
    "query_instances = x_test[0:1]\n",
    "dice_exp_genetic = exp_genetic.generate_counterfactuals(query_instances,\n",
    "                                                       desired_range=[0.16, 0.2],\n",
    "                                                       total_CFs=1000,\n",
    "                                                       proximity_weight=1.0,\n",
    "                                                       sparsity_weight=1.0,\n",
    "                                                       verbose=True,\n",
    "                                                       is_research=True)\n",
    "dice_exp_genetic.visualize_as_dataframe(show_only_changes=True)\n",
    "\n",
    "# 年齢に増加制約を加えると近接損失の影響で値が左端に近づく."
   ]
  },
  {
   "cell_type": "code",
   "execution_count": 13,
   "metadata": {},
   "outputs": [
    {
     "data": {
      "image/png": "[encoded data removed]",
      "text/plain": [
       "<Figure size 720x432 with 1 Axes>"
      ]
     },
     "metadata": {
      "needs_background": "light"
     },
     "output_type": "display_data"
    }
   ],
   "source": [
    "plt.figure(figsize=(10,6))\n",
    "plt.plot(range(0,len(exp_genetic.average_loss_list)),exp_genetic.average_loss_list, color=\"#3F597C\", linewidth=3)\n",
    "plt.plot(range(0,len(exp_genetic.average_top_loss_list)),exp_genetic.average_top_loss_list, color=\"#BE5108\",linewidth=3)\n",
    "#plt.savefig(\"images/ga_avg_loss.png\")"
   ]
  },
  {
   "cell_type": "code",
   "execution_count": 9,
   "metadata": {},
   "outputs": [
    {
     "data": {
      "image/png": "[encoded data removed]",
      "text/plain": [
       "<Figure size 432x288 with 1 Axes>"
      ]
     },
     "metadata": {
      "needs_background": "light"
     },
     "output_type": "display_data"
    }
   ],
   "source": [
    "plt.hist(exp_genetic.final_cfs_df[\"income\"])\n",
    "#plt.xlim(0.0, 1.0)\n",
    "plt.show()"
   ]
  },
  {
   "cell_type": "code",
   "execution_count": 10,
   "metadata": {},
   "outputs": [],
   "source": [
    "#exp_genetic.final_cfs_df.to_csv(\"LCA/R/csv/exp_genetic_test2_1000.csv\", index=False)"
   ]
  }
 ],
 "metadata": {
  "interpreter": {
   "hash": "f956e159798da436a044238f7e7ef0a3342728efa820bbb1c4ce50b8b9f2613c"
  },
  "kernelspec": {
   "display_name": "Python 3.7.3 64-bit ('base': conda)",
   "name": "python3"
  },
  "language_info": {
   "codemirror_mode": {
    "name": "ipython",
    "version": 3
   },
   "file_extension": ".py",
   "mimetype": "text/x-python",
   "name": "python",
   "nbconvert_exporter": "python",
   "pygments_lexer": "ipython3",
   "version": "3.7.3"
  },
  "orig_nbformat": 4
 },
 "nbformat": 4,
 "nbformat_minor": 2
}

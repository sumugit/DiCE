{
 "cells": [
  {
   "cell_type": "code",
   "execution_count": 7,
   "metadata": {},
   "outputs": [],
   "source": [
    "import pandas as pd\n",
    "import matplotlib.pyplot as plt"
   ]
  },
  {
   "cell_type": "code",
   "execution_count": 2,
   "metadata": {},
   "outputs": [],
   "source": [
    "# 図作成\n",
    "id_workclass = {'Government':1, 'Other/Unknown':2, 'Private':3, 'Self-Employed':4}\n",
    "id_education = {'Assoc':1, 'Bachelors':2, 'Doctorate':3, 'Masters':4, 'School':5, 'Prof-school':6, 'HS-grad':7, 'Some-college':8}\n",
    "id_marital_status = {'Separated':1, 'Divorced':2, 'Married':3, 'Widowed':4, 'Single':5}\n",
    "id_occupation = {'Other/Unknown':1, 'Professional':2, 'Sales':3, 'Service':4, 'White-Collar':5, 'Blue-Collar':6}\n",
    "id_race = {'Other':1, 'White':2}\n",
    "id_gender = {'Female':1, 'Male':2}"
   ]
  },
  {
   "cell_type": "code",
   "execution_count": 3,
   "metadata": {},
   "outputs": [
    {
     "data": {
      "text/html": [
       "<div>\n",
       "<style scoped>\n",
       "    .dataframe tbody tr th:only-of-type {\n",
       "        vertical-align: middle;\n",
       "    }\n",
       "\n",
       "    .dataframe tbody tr th {\n",
       "        vertical-align: top;\n",
       "    }\n",
       "\n",
       "    .dataframe thead th {\n",
       "        text-align: right;\n",
       "    }\n",
       "</style>\n",
       "<table border=\"1\" class=\"dataframe\">\n",
       "  <thead>\n",
       "    <tr style=\"text-align: right;\">\n",
       "      <th></th>\n",
       "      <th>age</th>\n",
       "      <th>workclass</th>\n",
       "      <th>education</th>\n",
       "      <th>marital_status</th>\n",
       "      <th>occupation</th>\n",
       "      <th>race</th>\n",
       "      <th>gender</th>\n",
       "      <th>hours_per_week</th>\n",
       "      <th>income</th>\n",
       "    </tr>\n",
       "  </thead>\n",
       "  <tbody>\n",
       "    <tr>\n",
       "      <th>0</th>\n",
       "      <td>33.0</td>\n",
       "      <td>Private</td>\n",
       "      <td>Masters</td>\n",
       "      <td>Married</td>\n",
       "      <td>White-Collar</td>\n",
       "      <td>White</td>\n",
       "      <td>Female</td>\n",
       "      <td>56.0</td>\n",
       "      <td>0.931921</td>\n",
       "    </tr>\n",
       "    <tr>\n",
       "      <th>1</th>\n",
       "      <td>48.0</td>\n",
       "      <td>Private</td>\n",
       "      <td>Doctorate</td>\n",
       "      <td>Married</td>\n",
       "      <td>Professional</td>\n",
       "      <td>White</td>\n",
       "      <td>Female</td>\n",
       "      <td>49.0</td>\n",
       "      <td>0.880581</td>\n",
       "    </tr>\n",
       "    <tr>\n",
       "      <th>2</th>\n",
       "      <td>33.0</td>\n",
       "      <td>Private</td>\n",
       "      <td>Prof-school</td>\n",
       "      <td>Married</td>\n",
       "      <td>Other/Unknown</td>\n",
       "      <td>White</td>\n",
       "      <td>Female</td>\n",
       "      <td>54.0</td>\n",
       "      <td>0.850054</td>\n",
       "    </tr>\n",
       "    <tr>\n",
       "      <th>3</th>\n",
       "      <td>44.0</td>\n",
       "      <td>Private</td>\n",
       "      <td>Prof-school</td>\n",
       "      <td>Married</td>\n",
       "      <td>Sales</td>\n",
       "      <td>White</td>\n",
       "      <td>Male</td>\n",
       "      <td>57.0</td>\n",
       "      <td>0.967227</td>\n",
       "    </tr>\n",
       "    <tr>\n",
       "      <th>4</th>\n",
       "      <td>28.0</td>\n",
       "      <td>Self-Employed</td>\n",
       "      <td>Prof-school</td>\n",
       "      <td>Married</td>\n",
       "      <td>Professional</td>\n",
       "      <td>White</td>\n",
       "      <td>Female</td>\n",
       "      <td>42.0</td>\n",
       "      <td>0.798187</td>\n",
       "    </tr>\n",
       "  </tbody>\n",
       "</table>\n",
       "</div>"
      ],
      "text/plain": [
       "    age      workclass    education marital_status     occupation   race  \\\n",
       "0  33.0        Private      Masters        Married   White-Collar  White   \n",
       "1  48.0        Private    Doctorate        Married   Professional  White   \n",
       "2  33.0        Private  Prof-school        Married  Other/Unknown  White   \n",
       "3  44.0        Private  Prof-school        Married          Sales  White   \n",
       "4  28.0  Self-Employed  Prof-school        Married   Professional  White   \n",
       "\n",
       "   gender  hours_per_week    income  \n",
       "0  Female            56.0  0.931921  \n",
       "1  Female            49.0  0.880581  \n",
       "2  Female            54.0  0.850054  \n",
       "3    Male            57.0  0.967227  \n",
       "4  Female            42.0  0.798187  "
      ]
     },
     "execution_count": 3,
     "metadata": {},
     "output_type": "execute_result"
    }
   ],
   "source": [
    "dataframe = pd.read_csv(\"../csv/exp_genetic_extra_1000.csv\")\n",
    "dataframe.head()"
   ]
  },
  {
   "cell_type": "code",
   "execution_count": 4,
   "metadata": {},
   "outputs": [
    {
     "data": {
      "text/html": [
       "<div>\n",
       "<style scoped>\n",
       "    .dataframe tbody tr th:only-of-type {\n",
       "        vertical-align: middle;\n",
       "    }\n",
       "\n",
       "    .dataframe tbody tr th {\n",
       "        vertical-align: top;\n",
       "    }\n",
       "\n",
       "    .dataframe thead th {\n",
       "        text-align: right;\n",
       "    }\n",
       "</style>\n",
       "<table border=\"1\" class=\"dataframe\">\n",
       "  <thead>\n",
       "    <tr style=\"text-align: right;\">\n",
       "      <th></th>\n",
       "      <th>age</th>\n",
       "      <th>workclass</th>\n",
       "      <th>education</th>\n",
       "      <th>marital_status</th>\n",
       "      <th>occupation</th>\n",
       "      <th>race</th>\n",
       "      <th>gender</th>\n",
       "      <th>hours_per_week</th>\n",
       "      <th>income</th>\n",
       "    </tr>\n",
       "  </thead>\n",
       "  <tbody>\n",
       "    <tr>\n",
       "      <th>0</th>\n",
       "      <td>33.0</td>\n",
       "      <td>3</td>\n",
       "      <td>4</td>\n",
       "      <td>3</td>\n",
       "      <td>5</td>\n",
       "      <td>2</td>\n",
       "      <td>1</td>\n",
       "      <td>56.0</td>\n",
       "      <td>0.931921</td>\n",
       "    </tr>\n",
       "    <tr>\n",
       "      <th>1</th>\n",
       "      <td>48.0</td>\n",
       "      <td>3</td>\n",
       "      <td>3</td>\n",
       "      <td>3</td>\n",
       "      <td>2</td>\n",
       "      <td>2</td>\n",
       "      <td>1</td>\n",
       "      <td>49.0</td>\n",
       "      <td>0.880581</td>\n",
       "    </tr>\n",
       "    <tr>\n",
       "      <th>2</th>\n",
       "      <td>33.0</td>\n",
       "      <td>3</td>\n",
       "      <td>6</td>\n",
       "      <td>3</td>\n",
       "      <td>2</td>\n",
       "      <td>2</td>\n",
       "      <td>1</td>\n",
       "      <td>54.0</td>\n",
       "      <td>0.850054</td>\n",
       "    </tr>\n",
       "    <tr>\n",
       "      <th>3</th>\n",
       "      <td>44.0</td>\n",
       "      <td>3</td>\n",
       "      <td>6</td>\n",
       "      <td>3</td>\n",
       "      <td>3</td>\n",
       "      <td>2</td>\n",
       "      <td>2</td>\n",
       "      <td>57.0</td>\n",
       "      <td>0.967227</td>\n",
       "    </tr>\n",
       "    <tr>\n",
       "      <th>4</th>\n",
       "      <td>28.0</td>\n",
       "      <td>4</td>\n",
       "      <td>6</td>\n",
       "      <td>3</td>\n",
       "      <td>2</td>\n",
       "      <td>2</td>\n",
       "      <td>1</td>\n",
       "      <td>42.0</td>\n",
       "      <td>0.798187</td>\n",
       "    </tr>\n",
       "  </tbody>\n",
       "</table>\n",
       "</div>"
      ],
      "text/plain": [
       "    age  workclass  education  marital_status  occupation  race  gender  \\\n",
       "0  33.0          3          4               3           5     2       1   \n",
       "1  48.0          3          3               3           2     2       1   \n",
       "2  33.0          3          6               3           2     2       1   \n",
       "3  44.0          3          6               3           3     2       2   \n",
       "4  28.0          4          6               3           2     2       1   \n",
       "\n",
       "   hours_per_week    income  \n",
       "0            56.0  0.931921  \n",
       "1            49.0  0.880581  \n",
       "2            54.0  0.850054  \n",
       "3            57.0  0.967227  \n",
       "4            42.0  0.798187  "
      ]
     },
     "execution_count": 4,
     "metadata": {},
     "output_type": "execute_result"
    }
   ],
   "source": [
    "# id_workclassとid_occupationに'Other/Unknown'キーが重複しているので回り道\n",
    "dataframe = dataframe.replace(id_workclass)\n",
    "dataframe = dataframe.replace(dict(**id_education, **id_gender, **id_marital_status, **id_occupation, **id_race))\n",
    "dataframe.head()"
   ]
  },
  {
   "cell_type": "code",
   "execution_count": 5,
   "metadata": {},
   "outputs": [],
   "source": [
    "#dataframe.to_csv(\"../csv/lca_ga_extra.csv\", index=False)"
   ]
  },
  {
   "cell_type": "code",
   "execution_count": 12,
   "metadata": {},
   "outputs": [
    {
     "name": "stdout",
     "output_type": "stream",
     "text": [
      "                     age  workclass  education  marital_status  occupation  \\\n",
      "age             1.000000  -0.028463   0.110160        0.056129   -0.105568   \n",
      "workclass      -0.028463   1.000000  -0.008134        0.005234    0.025532   \n",
      "education       0.110160  -0.008134   1.000000       -0.027971    0.046047   \n",
      "marital_status  0.056129   0.005234  -0.027971        1.000000    0.005966   \n",
      "occupation     -0.105568   0.025532   0.046047        0.005966    1.000000   \n",
      "race           -0.180662  -0.020245  -0.003268        0.017087    0.052719   \n",
      "gender          0.382411   0.015988   0.171965       -0.004591    0.072588   \n",
      "hours_per_week  0.135842  -0.013977  -0.017833        0.005943    0.055526   \n",
      "income          0.628607  -0.031922  -0.222322        0.003901   -0.341558   \n",
      "\n",
      "                    race    gender  hours_per_week    income  \n",
      "age            -0.180662  0.382411        0.135842  0.628607  \n",
      "workclass      -0.020245  0.015988       -0.013977 -0.031922  \n",
      "education      -0.003268  0.171965       -0.017833 -0.222322  \n",
      "marital_status  0.017087 -0.004591        0.005943  0.003901  \n",
      "occupation      0.052719  0.072588        0.055526 -0.341558  \n",
      "race            1.000000 -0.028383       -0.075172 -0.202236  \n",
      "gender         -0.028383  1.000000        0.175127  0.282828  \n",
      "hours_per_week -0.075172  0.175127        1.000000  0.269569  \n",
      "income         -0.202236  0.282828        0.269569  1.000000  \n"
     ]
    },
    {
     "data": {
      "image/png": "[encoded data removed]",
      "text/plain": [
       "<Figure size 432x288 with 1 Axes>"
      ]
     },
     "metadata": {
      "needs_background": "light"
     },
     "output_type": "display_data"
    }
   ],
   "source": [
    "print(dataframe.corr())\n",
    "plt.scatter(dataframe[\"age\"], dataframe[\"income\"])\n",
    "plt.show()"
   ]
  },
  {
   "cell_type": "code",
   "execution_count": 14,
   "metadata": {},
   "outputs": [
    {
     "data": {
      "image/png": "[encoded data removed]",
      "text/plain": [
       "<Figure size 432x288 with 1 Axes>"
      ]
     },
     "metadata": {
      "needs_background": "light"
     },
     "output_type": "display_data"
    }
   ],
   "source": [
    "plt.hist(dataframe[\"hours_per_week\"])\n",
    "plt.show()"
   ]
  }
 ],
 "metadata": {
  "interpreter": {
   "hash": "f956e159798da436a044238f7e7ef0a3342728efa820bbb1c4ce50b8b9f2613c"
  },
  "kernelspec": {
   "display_name": "Python 3.7.3 64-bit ('base': conda)",
   "name": "python3"
  },
  "language_info": {
   "codemirror_mode": {
    "name": "ipython",
    "version": 3
   },
   "file_extension": ".py",
   "mimetype": "text/x-python",
   "name": "python",
   "nbconvert_exporter": "python",
   "pygments_lexer": "ipython3",
   "version": "3.7.3"
  },
  "orig_nbformat": 4
 },
 "nbformat": 4,
 "nbformat_minor": 2
}
